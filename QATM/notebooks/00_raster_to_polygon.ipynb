{
 "cells": [
  {
   "cell_type": "code",
   "execution_count": 1,
   "metadata": {},
   "outputs": [],
   "source": [
    "import os\n",
    "from shapely.geometry import Polygon\n",
    "import cv2\n",
    "import numpy as np\n",
    "import pandas as pd\n",
    "import matplotlib.pyplot as plt\n",
    "from osgeo import gdal, osr\n",
    "import rasterio\n",
    "import geopandas as gpd\n",
    "import rioxarray as rxr\n",
    "import multiprocess as mp\n",
    "import shapely\n",
    "from shapely.ops import unary_union\n",
    "%matplotlib inline\n",
    "\n",
    "os.chdir('/Users/jmccarty/GitHub/22spring_templatematching_carto')\n",
    "n_cores = 6\n",
    "chunk_size = 10000"
   ]
  },
  {
   "cell_type": "markdown",
   "metadata": {},
   "source": [
    "### Creating Shapes\n",
    "----"
   ]
  },
  {
   "cell_type": "markdown",
   "metadata": {},
   "source": [
    "In this notebook you can find a script to process an image file (a binary mask) into a set of polygons stored in a geojson. The script takes the mask creates a georeferenced version using the original .tif file. Next for each cell in the mask a representativae Polygon is created and stored in a geodataframe. These are then merged to make larger shapes. These larger shapes are then stored in a geojson. The script is quite efficient (less than 90s on my macbook) and is multithreaded. The first cell contains all of the necessary functions and the following three cells convert the masks of the three sheets into geojsons."
   ]
  },
  {
   "cell_type": "code",
   "execution_count": 3,
   "metadata": {},
   "outputs": [],
   "source": [
    "def calc_boundary_points(origin,x_length,y_length):\n",
    "    a = (origin[0] - (x_length/2), origin[1] - (y_length/2))\n",
    "    b = (a[0], a[1] + y_length)\n",
    "    c = (a[0] + x_length, a[1] + y_length)\n",
    "    d = (a[0] + x_length, a[1])\n",
    "    return [a, b, c, d]\n",
    "\n",
    "def make_geo(origin,x_length,y_length):\n",
    "    geo = shapely.geometry.Polygon(calc_boundary_points(origin,x_length,y_length))\n",
    "    return geo\n",
    "\n",
    "def union(x):\n",
    "        return unary_union(x)\n",
    "\n",
    "def georeference_masks(masked_image,original_image,output_path,epsg):\n",
    "    dataset = rasterio.open(masked_image, 'r')\n",
    "    original = rasterio.open(original_image, 'r')\n",
    "    new_dataset = np.clip(dataset.read(1)+dataset.read(2)+dataset.read(3),0,255)\n",
    "    bands = [1]\n",
    "    data = np.reshape(new_dataset, (1,) + new_dataset.shape )\n",
    "    \n",
    "    crs = {'init': f'epsg:{epsg}'}\n",
    "\n",
    "    with rasterio.open(output_path, 'w', driver='GTiff',\n",
    "                    width=data.shape[2], height=data.shape[1],\n",
    "                    count=1, dtype=data.dtype, nodata=0,\n",
    "                    transform=original.transform, crs=crs) as dst:\n",
    "        dst.write(data, indexes=bands)\n",
    "    return original.get_transform()\n",
    "\n",
    "def mask_to_shape(geo_mask,transform,n_cores,n_geometries_in_chunk,shape_destination,epsg):\n",
    "    x_length = abs(transform[1])\n",
    "    y_length = abs(transform[5])\n",
    "    print(\"Reading raster...\")\n",
    "    mask_img = rxr.open_rasterio(geo_mask)\n",
    "    x, y, mask = mask_img.x.values, mask_img.y.values, mask_img.values\n",
    "    x, y = np.meshgrid(x, y)\n",
    "    x, y, mask = x.flatten(), y.flatten(), mask.flatten()\n",
    "\n",
    "    print(\"Converting to GeoDataFrame...\")\n",
    "    mask_pd = pd.DataFrame.from_dict({'mask': mask, 'x': x, 'y': y})\n",
    "    mask_threshold = 0\n",
    "    mask_pd = mask_pd[mask_pd['mask'] > mask_threshold]\n",
    "    mask_pd['polygons'] = mask_pd.apply(lambda x: make_geo((x['x'],x['y']),x_length,y_length),axis=1)\n",
    "\n",
    "    dem_vector = gpd.GeoDataFrame(geometry=gpd.GeoSeries(mask_pd['polygons'], crs=f'EPSG:{epsg}'))\n",
    "    dem_vector['mask'] = mask_pd['mask']\n",
    "\n",
    "    # Converting GeoSeries to list of geometries\n",
    "    geoms = dem_vector['geometry'].tolist() #list(dem_vector)\n",
    "\n",
    "    # # Converting geometries list to nested list of geometries\n",
    "    geom_arr = []\n",
    "\n",
    "    for i in range(0, len(geoms), n_geometries_in_chunk):\n",
    "        geom_arr.append(geoms[i:i+n_geometries_in_chunk])\n",
    "\n",
    "    # Creating multiprocessing pool to perform union operation of chunks of geometries\n",
    "    with mp.Pool(n_cores) as p:\n",
    "        geom_union = p.map(union, geom_arr)\n",
    "\n",
    "    # Perform union operation on returned unioned geometries\n",
    "    total_union = unary_union(geom_union)\n",
    "\n",
    "    # Creating GeoDataFrame for total_union\n",
    "    union_vector_gdf = gpd.GeoDataFrame(geometry=gpd.GeoSeries(total_union))\n",
    "\n",
    "    # Saving GeoDataFrame to shapefile\n",
    "    union_vector_gdf.to_file(shape_destination, driver='GeoJSON', crs=f'EPSG:{epsg}')\n",
    "    \n",
    "def main_shape_create(sheet,epsg,geo_mask_dest,masked_image_path,original_tile,n_cores,chunk_size,shape_dest):\n",
    "    transform = georeference_masks(masked_image_path, original_tile, geo_mask_dest,epsg)\n",
    "    mask_to_shape(geo_mask_dest,transform,n_cores,chunk_size,shape_dest,epsg)\n",
    "    "
   ]
  },
  {
   "cell_type": "code",
   "execution_count": 4,
   "metadata": {},
   "outputs": [
    {
     "name": "stderr",
     "output_type": "stream",
     "text": [
      "/opt/homebrew/Caskroom/miniforge/base/envs/cartography/lib/python3.8/site-packages/rasterio/__init__.py:220: NotGeoreferencedWarning: Dataset has no geotransform, gcps, or rpcs. The identity matrix be returned.\n",
      "  s = DatasetReader(path, driver=driver, sharing=sharing, **kwargs)\n"
     ]
    },
    {
     "name": "stdout",
     "output_type": "stream",
     "text": [
      "Reading raster...\n"
     ]
    },
    {
     "name": "stderr",
     "output_type": "stream",
     "text": [
      "/opt/homebrew/Caskroom/miniforge/base/envs/cartography/lib/python3.8/site-packages/pyproj/crs/_cf1x8.py:511: UserWarning: angle from rectified to skew grid parameter lost in conversion to CF\n",
      "  warnings.warn(\n"
     ]
    },
    {
     "name": "stdout",
     "output_type": "stream",
     "text": [
      "Converting to GeoDataFrame...\n"
     ]
    },
    {
     "name": "stderr",
     "output_type": "stream",
     "text": [
      "/opt/homebrew/Caskroom/miniforge/base/envs/cartography/lib/python3.8/site-packages/geopandas/io/file.py:362: FutureWarning: pandas.Int64Index is deprecated and will be removed from pandas in a future version. Use pandas.Index with the appropriate dtype instead.\n",
      "  pd.Int64Index,\n"
     ]
    }
   ],
   "source": [
    "sheet_official = \"1092_1990\"\n",
    "epsg = \"21781\"\n",
    "sheet_number = 'sheet1'\n",
    "\n",
    "geo_mask_dest = os.path.join(os.getcwd(),f\"QATM/notebooks/shape_tests/LKg_{sheet_official}_geomask.tif\")\n",
    "masked_image_path = os.path.join(os.getcwd(),f\"QATM/newalpha_result/{sheet_number}_merged.png\")\n",
    "original_tile = f\"/Users/jmccarty/Data/220206_ReTo_carto/template_matching/tif_files/LKg_{sheet_official}.tif\"\n",
    "shape_destination = os.path.join(os.getcwd(),f\"QATM/notebooks/shape_tests/LKg_{sheet_official}_maskshape.geojson\")\n",
    "\n",
    "main_shape_create(sheet_official,epsg,geo_mask_dest,masked_image_path,original_tile,n_cores,chunk_size,shape_destination)"
   ]
  },
  {
   "cell_type": "code",
   "execution_count": 5,
   "metadata": {},
   "outputs": [
    {
     "name": "stderr",
     "output_type": "stream",
     "text": [
      "/opt/homebrew/Caskroom/miniforge/base/envs/cartography/lib/python3.8/site-packages/rasterio/__init__.py:220: NotGeoreferencedWarning: Dataset has no geotransform, gcps, or rpcs. The identity matrix be returned.\n",
      "  s = DatasetReader(path, driver=driver, sharing=sharing, **kwargs)\n"
     ]
    },
    {
     "name": "stdout",
     "output_type": "stream",
     "text": [
      "Reading raster...\n"
     ]
    },
    {
     "name": "stderr",
     "output_type": "stream",
     "text": [
      "/opt/homebrew/Caskroom/miniforge/base/envs/cartography/lib/python3.8/site-packages/pyproj/crs/_cf1x8.py:511: UserWarning: angle from rectified to skew grid parameter lost in conversion to CF\n",
      "  warnings.warn(\n"
     ]
    },
    {
     "name": "stdout",
     "output_type": "stream",
     "text": [
      "Converting to GeoDataFrame...\n"
     ]
    },
    {
     "name": "stderr",
     "output_type": "stream",
     "text": [
      "/opt/homebrew/Caskroom/miniforge/base/envs/cartography/lib/python3.8/site-packages/geopandas/io/file.py:362: FutureWarning: pandas.Int64Index is deprecated and will be removed from pandas in a future version. Use pandas.Index with the appropriate dtype instead.\n",
      "  pd.Int64Index,\n"
     ]
    }
   ],
   "source": [
    "sheet_official = \"1111_1988\"\n",
    "epsg = \"21781\"\n",
    "sheet_number = 'sheet2'\n",
    "\n",
    "geo_mask_dest = os.path.join(os.getcwd(),f\"QATM/notebooks/shape_tests/LKg_{sheet_official}_geomask.tif\")\n",
    "masked_image_path = os.path.join(os.getcwd(),f\"QATM/newalpha_result/{sheet_number}_merged.png\")\n",
    "original_tile = f\"/Users/jmccarty/Data/220206_ReTo_carto/template_matching/tif_files/LKg_{sheet_official}.tif\"\n",
    "shape_destination = os.path.join(os.getcwd(),f\"QATM/notebooks/shape_tests/LKg_{sheet_official}_maskshape.geojson\")\n",
    "\n",
    "main_shape_create(sheet_official,epsg,geo_mask_dest,masked_image_path,original_tile,n_cores,chunk_size,shape_destination)"
   ]
  },
  {
   "cell_type": "code",
   "execution_count": 6,
   "metadata": {},
   "outputs": [
    {
     "name": "stderr",
     "output_type": "stream",
     "text": [
      "/opt/homebrew/Caskroom/miniforge/base/envs/cartography/lib/python3.8/site-packages/rasterio/__init__.py:220: NotGeoreferencedWarning: Dataset has no geotransform, gcps, or rpcs. The identity matrix be returned.\n",
      "  s = DatasetReader(path, driver=driver, sharing=sharing, **kwargs)\n"
     ]
    },
    {
     "name": "stdout",
     "output_type": "stream",
     "text": [
      "Reading raster...\n"
     ]
    },
    {
     "name": "stderr",
     "output_type": "stream",
     "text": [
      "/opt/homebrew/Caskroom/miniforge/base/envs/cartography/lib/python3.8/site-packages/pyproj/crs/_cf1x8.py:511: UserWarning: angle from rectified to skew grid parameter lost in conversion to CF\n",
      "  warnings.warn(\n"
     ]
    },
    {
     "name": "stdout",
     "output_type": "stream",
     "text": [
      "Converting to GeoDataFrame...\n"
     ]
    },
    {
     "name": "stderr",
     "output_type": "stream",
     "text": [
      "/opt/homebrew/Caskroom/miniforge/base/envs/cartography/lib/python3.8/site-packages/geopandas/io/file.py:362: FutureWarning: pandas.Int64Index is deprecated and will be removed from pandas in a future version. Use pandas.Index with the appropriate dtype instead.\n",
      "  pd.Int64Index,\n"
     ]
    }
   ],
   "source": [
    "sheet_official = \"1132_1989\"\n",
    "epsg = \"21781\"\n",
    "sheet_number = 'sheet3'\n",
    "\n",
    "geo_mask_dest = os.path.join(os.getcwd(),f\"QATM/notebooks/shape_tests/LKg_{sheet_official}_geomask.tif\")\n",
    "masked_image_path = os.path.join(os.getcwd(),f\"QATM/newalpha_result/{sheet_number}_merged.png\")\n",
    "original_tile = f\"/Users/jmccarty/Data/220206_ReTo_carto/template_matching/tif_files/LKg_{sheet_official}.tif\"\n",
    "shape_destination = os.path.join(os.getcwd(),f\"QATM/notebooks/shape_tests/LKg_{sheet_official}_maskshape.geojson\")\n",
    "\n",
    "main_shape_create(sheet_official,epsg,geo_mask_dest,masked_image_path,original_tile,n_cores,chunk_size,shape_destination)"
   ]
  },
  {
   "cell_type": "code",
   "execution_count": null,
   "metadata": {},
   "outputs": [],
   "source": []
  }
 ],
 "metadata": {
  "interpreter": {
   "hash": "cf506c6adbd1384f3c286fc552a620c18916cd3e987c88483703415de114a4c2"
  },
  "kernelspec": {
   "display_name": "Python 3.8.12 ('cartography')",
   "language": "python",
   "name": "python3"
  },
  "language_info": {
   "codemirror_mode": {
    "name": "ipython",
    "version": 3
   },
   "file_extension": ".py",
   "mimetype": "text/x-python",
   "name": "python",
   "nbconvert_exporter": "python",
   "pygments_lexer": "ipython3",
   "version": "3.8.12"
  },
  "orig_nbformat": 4
 },
 "nbformat": 4,
 "nbformat_minor": 2
}
