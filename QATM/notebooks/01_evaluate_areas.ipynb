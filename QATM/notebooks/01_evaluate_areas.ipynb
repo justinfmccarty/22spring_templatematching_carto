{
 "cells": [
  {
   "cell_type": "code",
   "execution_count": 40,
   "metadata": {},
   "outputs": [],
   "source": [
    "import os\n",
    "\n",
    "import rasterio\n",
    "from rasterio.plot import reshape_as_image\n",
    "import rasterio.mask\n",
    "from rasterio.features import rasterize\n",
    "\n",
    "import pandas as pd\n",
    "import geopandas as gpd\n",
    "from shapely.geometry import mapping, Point, Polygon\n",
    "from shapely.ops import unary_union\n",
    "\n",
    "import numpy as np\n",
    "import cv2\n",
    "import matplotlib.pyplot as plt\n",
    "\n",
    "import geopandas as gpd\n",
    "\n",
    "REF_ROOT = \"/Users/jmccarty/Data/220206_ReTo_carto/template_matching/ref\"\n",
    "DATA_ROOT = \"/Users/jmccarty/Data/220206_ReTo_carto/template_matching/tif_files\"\n",
    "SHEETS = [\"1092_1990\",\"1111_1988\",\"1132_1989\"]\n",
    "QATM_ROOT = \"/Users/jmccarty/GitHub/22spring_templatematching_carto/QATM/Phase3_result\"\n",
    "RESULTS_PATH = \"/Users/jmccarty/GitHub/22spring_templatematching_carto/QATM/notebooks/evaluate\""
   ]
  },
  {
   "cell_type": "code",
   "execution_count": 42,
   "metadata": {},
   "outputs": [],
   "source": [
    "def generate_mask(raster_path, shape_path, output_path):\n",
    "    \"\"\"\n",
    "    Function that generates a binary mask from a vector file (shp or geojson)\n",
    "    raster_path = path to the .tif;\n",
    "    shape_path = path to the shapefile or GeoJson.\n",
    "    output_path = Path to save the binary mask.\n",
    "    file_name = Name of the file.\n",
    "    \"\"\"\n",
    "    \n",
    "    #load raster\n",
    "    \n",
    "    with rasterio.open(raster_path, \"r\") as src:\n",
    "        raster_img = src.read()\n",
    "        raster_meta = src.meta\n",
    "    \n",
    "    #load o shapefile ou GeoJson\n",
    "    train_df = gpd.read_file(shape_path)\n",
    "    \n",
    "    #Verify crs\n",
    "    if train_df.crs != src.crs:\n",
    "        print(\" Raster crs : {}, Vector crs : {}.\\n Convert vector and raster to the same CRS.\".format(src.crs,train_df.crs))\n",
    "        \n",
    "        \n",
    "    #Function that generates the mask\n",
    "    def poly_from_utm(polygon, transform):\n",
    "        poly_pts = []\n",
    "\n",
    "        poly = unary_union(polygon)\n",
    "        for i in np.array(poly.exterior.coords):\n",
    "\n",
    "            poly_pts.append(~transform * tuple(i))\n",
    "\n",
    "        new_poly = Polygon(poly_pts)\n",
    "        return new_poly\n",
    "    \n",
    "    \n",
    "    poly_shp = []\n",
    "    im_size = (src.meta['height'], src.meta['width'])\n",
    "    for num, row in train_df.iterrows():\n",
    "        if row['geometry'].geom_type == 'Polygon':\n",
    "            poly = poly_from_utm(row['geometry'], src.meta['transform'])\n",
    "            poly_shp.append(poly)\n",
    "        else:\n",
    "            for p in row['geometry']:\n",
    "                poly = poly_from_utm(p, src.meta['transform'])\n",
    "                poly_shp.append(poly)\n",
    "\n",
    "    mask = rasterize(shapes=poly_shp,\n",
    "                     out_shape=im_size)\n",
    "    \n",
    "    #Salve\n",
    "    mask = mask.astype(\"uint16\")\n",
    "    \n",
    "    bin_mask_meta = src.meta.copy()\n",
    "    bin_mask_meta.update({'count': 1})\n",
    "    \n",
    "    with rasterio.open(output_path, 'w', **bin_mask_meta) as dst:\n",
    "        dst.write(mask * 255, 1)"
   ]
  },
  {
   "cell_type": "code",
   "execution_count": null,
   "metadata": {},
   "outputs": [],
   "source": [
    "# quickly fix the original tif files which have no CRS\n",
    "# this only needed to be run once\n",
    "\n",
    "for sheet in SHEETS:\n",
    "    ref_path = os.path.join(DATA_ROOT, f\"LKg_{sheet}.tif\")\n",
    "    r = rasterio.open(ref_path, \"r+\")\n",
    "    print(r.read_crs())\n",
    "    r.crs = rasterio.crs.CRS({\"init\": \"epsg:21781\"})\n",
    "    print(r.read_crs())\n",
    "    r.close()"
   ]
  },
  {
   "cell_type": "code",
   "execution_count": 43,
   "metadata": {},
   "outputs": [],
   "source": [
    "sheet = SHEETS[0]\n",
    "ref_shape_path = os.path.join(REF_ROOT,f\"LKg_{sheet}\",f\"wetlands_{sheet}.shp\")\n",
    "ref_shape = gpd.read_file(ref_shape_path)\n",
    "ref_image_path = os.path.join(DATA_ROOT, f\"LKg_{sheet}.tif\")\n",
    "qatm_shape_path = os.path.join(QATM_ROOT,f\"LKg_{sheet}_maskshape.geojson\")\n",
    "qatm_shape = gpd.read_file(qatm_shape_path)\n",
    "output_ref_mask_path = os.path.join(RESULTS_PATH,f\"{sheet}_ref_shp_mask.tif\")\n",
    "output_qatm_mask_path = os.path.join(RESULTS_PATH,f\"{sheet}_qatm_shp_mask.tif\")"
   ]
  },
  {
   "cell_type": "code",
   "execution_count": 44,
   "metadata": {},
   "outputs": [
    {
     "name": "stderr",
     "output_type": "stream",
     "text": [
      "/var/folders/ww/12z6q0wj4c527ftkk7sxqb680000gp/T/ipykernel_26701/3785567254.py:44: ShapelyDeprecationWarning: Iteration over multi-part geometries is deprecated and will be removed in Shapely 2.0. Use the `geoms` property to access the constituent parts of a multi-part geometry.\n",
      "  for p in row['geometry']:\n",
      "/var/folders/ww/12z6q0wj4c527ftkk7sxqb680000gp/T/ipykernel_26701/3785567254.py:44: ShapelyDeprecationWarning: Iteration over multi-part geometries is deprecated and will be removed in Shapely 2.0. Use the `geoms` property to access the constituent parts of a multi-part geometry.\n",
      "  for p in row['geometry']:\n"
     ]
    }
   ],
   "source": [
    "# generate mask files for the qatm_shapes\n",
    "generate_mask(ref_image_path,qatm_shape_path,output_qatm_mask_path)\n",
    "\n",
    "# generate mask files for the original shapes\n",
    "generate_mask(ref_image_path,ref_shape_path,output_ref_mask_path)\n"
   ]
  },
  {
   "cell_type": "code",
   "execution_count": 52,
   "metadata": {},
   "outputs": [
    {
     "name": "stderr",
     "output_type": "stream",
     "text": [
      "/opt/homebrew/Caskroom/miniforge/base/envs/cartography/lib/python3.8/site-packages/pyproj/crs/_cf1x8.py:511: UserWarning: angle from rectified to skew grid parameter lost in conversion to CF\n",
      "  warnings.warn(\n",
      "/opt/homebrew/Caskroom/miniforge/base/envs/cartography/lib/python3.8/site-packages/pyproj/crs/_cf1x8.py:511: UserWarning: angle from rectified to skew grid parameter lost in conversion to CF\n",
      "  warnings.warn(\n"
     ]
    }
   ],
   "source": [
    "# load the masks\n",
    "\n",
    "ref_mask = rxr.open_rasterio(output_ref_mask_path)\n",
    "qatm_mask = rxr.open_rasterio(output_qatm_mask_path)"
   ]
  },
  {
   "cell_type": "code",
   "execution_count": 74,
   "metadata": {},
   "outputs": [],
   "source": [
    "# cellulate the arrays\n",
    "\n",
    "cell_width = 24\n",
    "cell_height = 35\n",
    "\n",
    "total_width = ref_mask[0].shape[0]\n",
    "total_height = ref_mask[0].shape[1]\n",
    "\n",
    "width_indices = np.arange(0,total_width,cell_width)\n",
    "height_indices = np.arange(0,total_height,cell_height)\n",
    "\n",
    "indices = []\n",
    "for i in width_indices:\n",
    "    for j in height_indices:\n",
    "        indices.append((i,j))"
   ]
  },
  {
   "cell_type": "code",
   "execution_count": 82,
   "metadata": {},
   "outputs": [
    {
     "name": "stdout",
     "output_type": "stream",
     "text": [
      "Yes\n",
      "Yes\n",
      "Yes\n",
      "Yes\n",
      "Yes\n",
      "Yes\n",
      "Yes\n",
      "Yes\n",
      "Yes\n",
      "Yes\n",
      "Yes\n",
      "Yes\n",
      "Yes\n",
      "Yes\n",
      "Yes\n",
      "Yes\n",
      "Yes\n",
      "Yes\n",
      "Yes\n",
      "Yes\n",
      "Yes\n",
      "Yes\n",
      "Yes\n",
      "Yes\n",
      "Yes\n",
      "Yes\n",
      "Yes\n",
      "Yes\n",
      "Yes\n",
      "Yes\n",
      "Yes\n",
      "Yes\n",
      "Yes\n",
      "Yes\n",
      "Yes\n",
      "Yes\n"
     ]
    }
   ],
   "source": [
    "for inx in indices:\n",
    "    i = inx[0]\n",
    "    j = inx[1]\n",
    "\n",
    "    ref_sub = ref_mask[0].values[i:i+cell_width,j:j+cell_height]\n",
    "    qatm_sub = qatm_mask[0].values[i:i+cell_width,j:j+cell_height]\n",
    "    arr_comp = ref_sub - qatm_sub\n",
    "    if sum(arr_comp.flatten())>0:\n",
    "        print(\"Yes\")"
   ]
  }
 ],
 "metadata": {
  "interpreter": {
   "hash": "cf506c6adbd1384f3c286fc552a620c18916cd3e987c88483703415de114a4c2"
  },
  "kernelspec": {
   "display_name": "Python 3.8.12 ('cartography')",
   "language": "python",
   "name": "python3"
  },
  "language_info": {
   "codemirror_mode": {
    "name": "ipython",
    "version": 3
   },
   "file_extension": ".py",
   "mimetype": "text/x-python",
   "name": "python",
   "nbconvert_exporter": "python",
   "pygments_lexer": "ipython3",
   "version": "3.8.12"
  },
  "orig_nbformat": 4
 },
 "nbformat": 4,
 "nbformat_minor": 2
}
